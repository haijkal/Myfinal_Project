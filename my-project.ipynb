{
 "cells": [
  {
   "cell_type": "code",
   "execution_count": 1,
   "id": "1f42c0c3",
   "metadata": {},
   "outputs": [
    {
     "name": "stdout",
     "output_type": "stream",
     "text": [
      "https://en.wikipedia.org/wiki/List_of_the_verified_oldest_people\n",
      "<Response [200]>\n",
      "The oldest person on earth is Grace Clawson[69] at the age of 100.\n"
     ]
    }
   ],
   "source": [
    "import requests\n",
    "from bs4 import BeautifulSoup\n",
    "\n",
    "\n",
    "url = \"https://en.wikipedia.org/wiki/List_of_the_verified_oldest_people\"\n",
    "print(url)\n",
    "response = requests.get(url)\n",
    "print(response)\n",
    "\n",
    "soup = BeautifulSoup(response.content, 'html.parser')\n",
    "\n",
    "\n",
    "table = soup.find('table', class_='wikitable')\n",
    "\n",
    "oldest_person = None\n",
    "oldest_age = 0\n",
    "\n",
    "rows = table.find_all('tr')[1:]  # Exclude the header row\n",
    "for row in rows:\n",
    "    columns = row.find_all('td')\n",
    "    name = columns[1].text.strip()\n",
    "    age_text = columns[0].text.strip()\n",
    "    birth_date = columns[2].text.strip()\n",
    "\n",
    "    try:\n",
    "        age = int(age_text)\n",
    "        if age > oldest_age:\n",
    "            oldest_person = name\n",
    "            oldest_age = age\n",
    "    except ValueError:\n",
    "        # Skip rows with invalid age values\n",
    "        continue\n",
    "\n",
    "print(f\"The oldest person on earth is {oldest_person} at the age of {oldest_age}.\")\n"
   ]
  },
  {
   "cell_type": "code",
   "execution_count": null,
   "id": "bdc1e975",
   "metadata": {},
   "outputs": [],
   "source": []
  }
 ],
 "metadata": {
  "kernelspec": {
   "display_name": "Python 3 (ipykernel)",
   "language": "python",
   "name": "python3"
  },
  "language_info": {
   "codemirror_mode": {
    "name": "ipython",
    "version": 3
   },
   "file_extension": ".py",
   "mimetype": "text/x-python",
   "name": "python",
   "nbconvert_exporter": "python",
   "pygments_lexer": "ipython3",
   "version": "3.10.9"
  }
 },
 "nbformat": 4,
 "nbformat_minor": 5
}
